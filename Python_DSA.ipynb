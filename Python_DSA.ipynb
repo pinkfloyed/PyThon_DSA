{
  "nbformat": 4,
  "nbformat_minor": 0,
  "metadata": {
    "colab": {
      "provenance": []
    },
    "kernelspec": {
      "name": "python3",
      "display_name": "Python 3"
    },
    "language_info": {
      "name": "python"
    }
  },
  "cells": [
    {
      "cell_type": "markdown",
      "source": [
        "##**Search and Sorting**"
      ],
      "metadata": {
        "id": "VDeqnQdO_dQB"
      }
    },
    {
      "cell_type": "code",
      "execution_count": null,
      "metadata": {
        "colab": {
          "base_uri": "https://localhost:8080/"
        },
        "id": "p8MO8Zyw_Xlg",
        "outputId": "6464899f-7e20-4c09-ec60-94ff77b9dfe6"
      },
      "outputs": [
        {
          "output_type": "stream",
          "name": "stdout",
          "text": [
            "Yes 2\n"
          ]
        }
      ],
      "source": [
        "# linear search\n",
        "\n",
        "def search(arr,n,x):\n",
        "  for i in range(0,n):\n",
        "    if(arr[i]==x):\n",
        "      return i\n",
        "  return -1\n",
        "\n",
        "arr=[22,33,11,55,66,77,78]\n",
        "x=11\n",
        "n=len(arr)\n",
        "r=search(arr,n,x)\n",
        "if(r==-1):\n",
        "  print('No')\n",
        "else:\n",
        "  print('Yes',r)\n"
      ]
    },
    {
      "cell_type": "code",
      "source": [
        "# Binary search\n",
        "def binary_search(arr,l,r,x):\n",
        "  if(r>=l):\n",
        "    m=l+(r-l)//2\n",
        "    if arr[m]==x:\n",
        "      return m\n",
        "    elif arr[m]>x:\n",
        "      return binary_search(arr,l,m-1,x)\n",
        "    else:\n",
        "      return binary_search(arr,m+1,r,x)\n",
        "  else:\n",
        "    return -1\n",
        "\n",
        "arr=[2,4,6,7,88,100,101,202,303,404]\n",
        "l=0\n",
        "r=len(arr)-1\n",
        "x=202\n",
        "res=binary_search(arr,l,r,x)\n",
        "if(res!=-1):\n",
        "  print(\"Yes found at index : \",res)\n",
        "else:\n",
        "  print('Not found')"
      ],
      "metadata": {
        "id": "VyZv-voKDycP",
        "colab": {
          "base_uri": "https://localhost:8080/"
        },
        "outputId": "cc393b87-0eb1-4659-fe48-06ab210366d5"
      },
      "execution_count": null,
      "outputs": [
        {
          "output_type": "stream",
          "name": "stdout",
          "text": [
            "Yes found at index :  7\n"
          ]
        }
      ]
    },
    {
      "cell_type": "code",
      "source": [
        "# Selection Sort (It sorts an array by repeatedly finding the minimum element from unsorted part and putting it at the beginning)\n",
        "a=[64,92,96,71,132,2,1,3,4,5,6,7,2]\n",
        "for i in range(len(a)):\n",
        "  mn=i\n",
        "  for j in range(i+1,len(a)):\n",
        "    if(a[mn]>a[j]):\n",
        "      mn=j\n",
        "  a[i],a[mn]=a[mn],a[i]\n",
        "\n",
        "for i in range(len(a)):\n",
        "  print(a[i],end=' ')"
      ],
      "metadata": {
        "id": "1CvYLTtiFwmj",
        "colab": {
          "base_uri": "https://localhost:8080/"
        },
        "outputId": "5d7af866-5d9f-4102-d3d7-e42f1a4b326c"
      },
      "execution_count": null,
      "outputs": [
        {
          "output_type": "stream",
          "name": "stdout",
          "text": [
            "1 2 2 3 4 5 6 7 64 71 92 96 132 "
          ]
        }
      ]
    },
    {
      "cell_type": "code",
      "source": [
        "# Bubble sort (simplest sorting algorithm that works by repeatedly swapping the adjacent elements if they are in wrong order)\n",
        "\n",
        "def bubbleSort(arr):\n",
        "  n=len(arr)\n",
        "  for i in range(n):\n",
        "    for j in range(0,n-i-1):\n",
        "      if arr[j]>arr[j+1]:\n",
        "        arr[j],arr[j+1]=arr[j+1],arr[j]\n",
        "\n",
        "arr=[3,1,6,7,3,22,11,89,90,53]\n",
        "bubbleSort(arr)\n",
        "for i in range(len(arr)):\n",
        "  print(arr[i],end=' ')"
      ],
      "metadata": {
        "id": "IaCaIoCyQl-Z",
        "colab": {
          "base_uri": "https://localhost:8080/"
        },
        "outputId": "cbdfda6f-0414-48b7-b568-c32c0bc56d43"
      },
      "execution_count": null,
      "outputs": [
        {
          "output_type": "stream",
          "name": "stdout",
          "text": [
            "1 3 3 6 7 11 22 53 89 90 "
          ]
        }
      ]
    },
    {
      "cell_type": "code",
      "source": [
        "# Insertion sort\n",
        "\n",
        "def insertionsort(arr):\n",
        "  n=len(arr)\n",
        "  for i in range(1,n):\n",
        "    k=arr[i]\n",
        "    j=i-1\n",
        "    while j>=0 and k<arr[j]:\n",
        "      arr[j+1]=arr[j]\n",
        "      j-=1\n",
        "    arr[j+1]=k\n",
        "\n",
        "arr=[3,1,6,7,3,22,11,89,90,53]\n",
        "insertionsort(arr)\n",
        "for i in range(len(arr)):\n",
        "  print(arr[i],end=' ')"
      ],
      "metadata": {
        "id": "yQvOzDifTyKN",
        "colab": {
          "base_uri": "https://localhost:8080/"
        },
        "outputId": "76b1e3ea-9f4d-4f64-9911-f3b06f61a515"
      },
      "execution_count": null,
      "outputs": [
        {
          "output_type": "stream",
          "name": "stdout",
          "text": [
            "1 3 3 6 7 11 22 53 89 90 "
          ]
        }
      ]
    },
    {
      "cell_type": "code",
      "source": [
        "# Shell sort (it allow the exchange of far items)\n",
        "def shellsort(arr):\n",
        "  d=len(arr)//2\n",
        "  while d>0:\n",
        "    i=0\n",
        "    j=d\n",
        "    while j<len(arr):\n",
        "      if(arr[i]>arr[j]):\n",
        "        arr[i],arr[j]=arr[j],arr[i]\n",
        "      i+=1\n",
        "      j+=1\n",
        "\n",
        "      k=i\n",
        "      while((k-d)>-1):\n",
        "        if(arr[k-d]>arr[k]):\n",
        "          arr[k-d],arr[k]=arr[k],arr[k-d]\n",
        "        k-=1\n",
        "    d//=2\n",
        "arr=[3,1,6,7,3,22,11,89,90,53]\n",
        "shellsort(arr)\n",
        "for i in range(len(arr)):\n",
        "  print(arr[i],end=' ')"
      ],
      "metadata": {
        "id": "LTWrAa35Vz0v",
        "colab": {
          "base_uri": "https://localhost:8080/"
        },
        "outputId": "fde4966c-194c-4efa-db3d-1247db7e3f6d"
      },
      "execution_count": null,
      "outputs": [
        {
          "output_type": "stream",
          "name": "stdout",
          "text": [
            "1 3 3 6 7 11 22 53 89 90 "
          ]
        }
      ]
    },
    {
      "cell_type": "code",
      "source": [
        "# Merge sort\n",
        "\n",
        "def mergesort(arr):\n",
        "  if(len(arr)>1):\n",
        "    m=len(arr)//2\n",
        "    l=arr[:m]\n",
        "    r=arr[m:]\n",
        "    mergesort(l)\n",
        "    mergesort(r)\n",
        "    i=j=k=0\n",
        "    while i<len(l) and j<len(r):\n",
        "      if(l[i]<r[i]):\n",
        "        arr[k]=l[i]\n",
        "        i+=1\n",
        "      else:\n",
        "        arr[k]=r[i]\n",
        "        j+=1\n",
        "      k+=1\n",
        "    while i<len(l):\n",
        "        arr[k]=l[i]\n",
        "        i+=1\n",
        "        k+=1\n",
        "    while j<len(r):\n",
        "        arr[k]=r[j]\n",
        "        j+=1\n",
        "        k+=1\n",
        "\n",
        "arr=[3,1,6,7,3,22,11,89,90,53]\n",
        "mergesort(arr)\n",
        "if __name__=='__main__':\n",
        "  for i in range(len(arr)):\n",
        "    print(arr[i],end=' ')"
      ],
      "metadata": {
        "id": "qRyM8mwCaZAG",
        "colab": {
          "base_uri": "https://localhost:8080/"
        },
        "outputId": "c088c5c8-840f-4e54-e44e-cdcb040fb586"
      },
      "execution_count": null,
      "outputs": [
        {
          "output_type": "stream",
          "name": "stdout",
          "text": [
            "1 3 3 3 3 11 22 53 53 89 "
          ]
        }
      ]
    },
    {
      "cell_type": "code",
      "source": [
        "# quick sort\n",
        "\n",
        "def partition(s,e,arr):\n",
        "  pivot_index=s\n",
        "  pivot=arr[pivot_index]\n",
        "  while s<e:\n",
        "    while s<len(arr) and arr[s]<=pivot:\n",
        "      s+=1\n",
        "    while arr[e]>pivot:\n",
        "      e-=1\n",
        "    if(s<e):\n",
        "      arr[s],arr[e]=arr[e],arr[s]\n",
        "  arr[e],arr[pivot_index]=arr[pivot_index],arr[e]\n",
        "  return e\n",
        "\n",
        "def quick_sort(s,e,arr):\n",
        "  if(s<e):\n",
        "    p=partition(s,e,arr)\n",
        "    quick_sort(s,p-1,arr)\n",
        "    quick_sort(p+1,e,arr)\n",
        "\n",
        "arr=[3,1,6,7,3,22,11,89,90,53]\n",
        "quick_sort(0,len(arr)-1,arr)\n",
        "for i in range(len(arr)):\n",
        "  print(arr[i],end=' ')\n"
      ],
      "metadata": {
        "id": "1_1mfm03aY6K",
        "colab": {
          "base_uri": "https://localhost:8080/"
        },
        "outputId": "3814b776-4058-463d-9658-29c5d2bcbed7"
      },
      "execution_count": null,
      "outputs": [
        {
          "output_type": "stream",
          "name": "stdout",
          "text": [
            "1 3 3 6 7 11 22 53 89 90 "
          ]
        }
      ]
    },
    {
      "cell_type": "markdown",
      "source": [
        "##**Linked List**"
      ],
      "metadata": {
        "id": "IggoESbEkEne"
      }
    },
    {
      "cell_type": "code",
      "source": [
        "# linked list traversal\n",
        "\n",
        "class Node:\n",
        "  def __init__(self,data):\n",
        "    self.data=data\n",
        "    self.next=None\n",
        "\n",
        "class LinkedList:\n",
        "  def printlist(self):\n",
        "    temp=self.head\n",
        "    while(temp):\n",
        "      print(temp.data)\n",
        "      temp=temp.next\n",
        "\n",
        "\n",
        "if __name__=='__main__':\n",
        "  list=LinkedList()\n",
        "  list.head=Node(2)\n",
        "  second=Node(9)\n",
        "  third=Node(19)\n",
        "\n",
        "  list.head.next=second\n",
        "  second.next=third\n",
        "  list.printlist()"
      ],
      "metadata": {
        "id": "lPJ4TqofkIlq",
        "colab": {
          "base_uri": "https://localhost:8080/"
        },
        "outputId": "0dc9f916-0914-47e3-c1c0-7eb7e231d23f"
      },
      "execution_count": null,
      "outputs": [
        {
          "output_type": "stream",
          "name": "stdout",
          "text": [
            "2\n",
            "9\n",
            "19\n"
          ]
        }
      ]
    },
    {
      "cell_type": "code",
      "source": [
        "# insert at begining\n",
        "class Node:\n",
        "  def __init__(self,newdata):\n",
        "    self.data=newdata\n",
        "    self.next=None\n",
        "\n",
        "def insert_front(head,newdata):\n",
        "  node=Node(newdata)\n",
        "  node.next=head\n",
        "  return node\n",
        "\n",
        "\n",
        "def printlist(head):\n",
        "  temp=head\n",
        "  while temp is not None:\n",
        "    print(temp.data, end=\" \")\n",
        "    temp=temp.next\n",
        "  print()\n",
        "\n",
        "\n",
        "if __name__=='__main__':\n",
        "  head=Node(2)\n",
        "  head.next=Node(9)\n",
        "  head.next.next=Node(19)\n",
        "\n",
        "  newdata=12\n",
        "  head=insert_front(head,newdata)\n",
        "  printlist(head)"
      ],
      "metadata": {
        "id": "6gWDyzNu9Q7B",
        "colab": {
          "base_uri": "https://localhost:8080/"
        },
        "outputId": "29cacf1a-9759-49d6-b29e-85d5e1298e49"
      },
      "execution_count": null,
      "outputs": [
        {
          "output_type": "stream",
          "name": "stdout",
          "text": [
            "12 2 9 19 \n"
          ]
        }
      ]
    },
    {
      "cell_type": "code",
      "source": [
        "# insert after specific node\n",
        "\n",
        "class Node:\n",
        "  def __init__(self,newdata):\n",
        "    self.data=newdata\n",
        "    self.next=None\n",
        "\n",
        "def insert_specific(head,k,newdata):\n",
        "  temp=head\n",
        "  while temp is not None:\n",
        "    if temp.data==k:\n",
        "      break\n",
        "    temp=temp.next\n",
        "  if temp is None:\n",
        "    return head\n",
        "  node=Node(newdata)\n",
        "  node.next=temp.next\n",
        "  temp.next=node\n",
        "  return head\n",
        "\n",
        "\n",
        "def printlist(head):\n",
        "  temp=head\n",
        "  while temp is not None:\n",
        "    print(temp.data, end=\" \")\n",
        "    temp=temp.next\n",
        "  print()\n",
        "\n",
        "\n",
        "if __name__=='__main__':\n",
        "  head=Node(2)\n",
        "  head.next=Node(9)\n",
        "  head.next.next=Node(19)\n",
        "\n",
        "  newdata=12\n",
        "  k=2\n",
        "  head=insert_specific(head,k,newdata)\n",
        "  printlist(head)\n"
      ],
      "metadata": {
        "colab": {
          "base_uri": "https://localhost:8080/"
        },
        "id": "5vmeoqNlBx1V",
        "outputId": "6b6665c4-5db1-41bf-d684-43e47fa7968e"
      },
      "execution_count": null,
      "outputs": [
        {
          "output_type": "stream",
          "name": "stdout",
          "text": [
            "2 12 9 19 \n"
          ]
        }
      ]
    },
    {
      "cell_type": "markdown",
      "source": [
        "##**Stack**"
      ],
      "metadata": {
        "id": "FTOx2gK_C7XD"
      }
    },
    {
      "cell_type": "code",
      "source": [
        "stack=[]\n",
        "stack.append(3)\n",
        "stack.append(32)\n",
        "stack.append(31)\n",
        "stack.append(13)\n",
        "stack.append(322)\n",
        "\n",
        "print(stack)\n",
        "stack.pop()\n",
        "stack.pop()\n",
        "\n",
        "print(stack)"
      ],
      "metadata": {
        "colab": {
          "base_uri": "https://localhost:8080/"
        },
        "id": "hfM1hqSrC6tz",
        "outputId": "f18d2fa2-2c7c-4b45-9eba-60df1ecc70c8"
      },
      "execution_count": null,
      "outputs": [
        {
          "output_type": "stream",
          "name": "stdout",
          "text": [
            "[3, 32, 31, 13, 322]\n",
            "[3, 32, 31]\n"
          ]
        }
      ]
    }
  ]
}