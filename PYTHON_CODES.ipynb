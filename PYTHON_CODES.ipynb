{
  "nbformat": 4,
  "nbformat_minor": 0,
  "metadata": {
    "colab": {
      "provenance": [],
      "authorship_tag": "ABX9TyNA0qbf1o/wTduJqfXF9xNq",
      "include_colab_link": true
    },
    "kernelspec": {
      "name": "python3",
      "display_name": "Python 3"
    },
    "language_info": {
      "name": "python"
    }
  },
  "cells": [
    {
      "cell_type": "markdown",
      "metadata": {
        "id": "view-in-github",
        "colab_type": "text"
      },
      "source": [
        "<a href=\"https://colab.research.google.com/github/pinkfloyed/PyThon_DSA/blob/main/PYTHON_CODES.ipynb\" target=\"_parent\"><img src=\"https://colab.research.google.com/assets/colab-badge.svg\" alt=\"Open In Colab\"/></a>"
      ]
    },
    {
      "cell_type": "markdown",
      "source": [
        "## **Variables & data Types**"
      ],
      "metadata": {
        "id": "Dgkre_UXC87Z"
      }
    },
    {
      "cell_type": "code",
      "execution_count": null,
      "metadata": {
        "colab": {
          "base_uri": "https://localhost:8080/",
          "height": 209
        },
        "id": "uJUC4cbjAqJO",
        "outputId": "eef9909c-8171-4d43-c7a4-8c4ba3ff64a7"
      },
      "outputs": [
        {
          "output_type": "stream",
          "name": "stdout",
          "text": [
            "Pinki Akter\n",
            "Pinki Akter CSE 25 CUET\n",
            "Pinki 25 VNSC 3.53\n",
            "<class 'str'>\n",
            "<class 'int'>\n",
            "<class 'str'>\n",
            "<class 'float'>\n",
            "Pinkis Pinks Pinks\n",
            "<class 'bool'>\n",
            "<class 'NoneType'>\n"
          ]
        },
        {
          "output_type": "execute_result",
          "data": {
            "text/plain": [
              "' Multiline comments'"
            ],
            "application/vnd.google.colaboratory.intrinsic+json": {
              "type": "string"
            }
          },
          "metadata": {},
          "execution_count": 9
        }
      ],
      "source": [
        "print(\"Pinki Akter\")\n",
        "print(\"Pinki Akter\",\"CSE\",25,\"CUET\")\n",
        "\n",
        "name=\"Pinki\"\n",
        "age=25\n",
        "School=\"VNSC\"\n",
        "CGPA=3.53\n",
        "\n",
        "print(name,age,School,CGPA)\n",
        "\n",
        "print(type(name))\n",
        "print(type(age))\n",
        "print(type(School))\n",
        "print(type(CGPA))\n",
        "\n",
        "# data types : integers, string, float, boolean, none\n",
        "name1=\"Pinkis\"\n",
        "name2='Pinks'\n",
        "name3='''Pinks'''\n",
        "print(name1,name2,name3)\n",
        "\n",
        "ok=True\n",
        "a=None\n",
        "print(type(ok))\n",
        "print(type(a))\n",
        "\n",
        "\n",
        "# Python is Case Sensitive\n",
        "# single comment\n",
        "''' Multiline comments'''\n",
        "# to comment multiple lines in one go : ctrl+/"
      ]
    },
    {
      "cell_type": "code",
      "source": [
        "#sum of 2 numbers\n",
        "\n",
        "a=10\n",
        "b=20\n",
        "s=a+b\n",
        "print(s)\n",
        "\n",
        "# Arithmatic operators\n",
        "x=30\n",
        "y=10\n",
        "print(x+y)\n",
        "print(x-y)\n",
        "print(x*y)\n",
        "print(x/y)\n",
        "print(x%y)  # remainder\n",
        "print(x ** y) # x^y\n",
        "\n",
        "# Relational/Comparison operators\n",
        "s=20\n",
        "t=30\n",
        "print(s==t)\n",
        "print(s!=t)\n",
        "print(s>t)\n",
        "print(s>=t)\n",
        "print(s<t)\n",
        "print(s<=t)\n",
        "\n",
        "# Asignment operator\n",
        "num=10;\n",
        "print(num)\n",
        "num=num+10;\n",
        "print(num)\n",
        "num+=10;\n",
        "print(num)\n",
        "num-=10;\n",
        "print(num)\n",
        "num*=10;\n",
        "print(num)\n",
        "num/=10;\n",
        "print(num)\n",
        "num%=10;\n",
        "print(num)\n",
        "num**=10;\n",
        "print(num)\n",
        "\n",
        "# Logical operators\n",
        "u=20\n",
        "v=19\n",
        "print(not (u>v))\n",
        "print((u>v) and (u!=v))\n",
        "print((u>v) or (u<v))"
      ],
      "metadata": {
        "colab": {
          "base_uri": "https://localhost:8080/"
        },
        "id": "aYKH5x9_IFNz",
        "outputId": "65385f39-07ca-4244-ef74-e50c6d972c95"
      },
      "execution_count": null,
      "outputs": [
        {
          "output_type": "stream",
          "name": "stdout",
          "text": [
            "30\n",
            "40\n",
            "20\n",
            "300\n",
            "3.0\n",
            "0\n",
            "590490000000000\n",
            "False\n",
            "True\n",
            "False\n",
            "False\n",
            "True\n",
            "True\n",
            "10\n",
            "20\n",
            "30\n",
            "20\n",
            "200\n",
            "20.0\n",
            "0.0\n",
            "0.0\n",
            "False\n",
            "True\n",
            "True\n"
          ]
        }
      ]
    },
    {
      "cell_type": "code",
      "source": [
        "# type conversion (1. type casting(intentional) 2.conversion(automatically))\n",
        "a=4\n",
        "b=3.56\n",
        "print(a+b) # type conversion\n",
        "\n",
        "s=\"pinki\"\n",
        "e=str(10) # type casting\n",
        "print(s+e) # error gives"
      ],
      "metadata": {
        "colab": {
          "base_uri": "https://localhost:8080/"
        },
        "id": "rFI9iq_ePcy5",
        "outputId": "60083ed8-083c-455f-8796-5725b9ea30f2"
      },
      "execution_count": null,
      "outputs": [
        {
          "output_type": "stream",
          "name": "stdout",
          "text": [
            "7.5600000000000005\n",
            "pinki10\n"
          ]
        }
      ]
    },
    {
      "cell_type": "code",
      "source": [
        "# user input\n",
        "n=input(\"Enter name : \")\n",
        "print(\"Welcome \",n);\n",
        "\n",
        "# input() always string value input nibe\n",
        "# int(input())  int value input nibe\n",
        "# float(input()) float value input nibe"
      ],
      "metadata": {
        "colab": {
          "base_uri": "https://localhost:8080/"
        },
        "id": "RHpy6TayRH3k",
        "outputId": "d4520ee4-5587-4dd5-9fb7-3bb5c1b78105"
      },
      "execution_count": null,
      "outputs": [
        {
          "output_type": "stream",
          "name": "stdout",
          "text": [
            "Enter name : pinki\n",
            "Welcome  pinki\n"
          ]
        }
      ]
    },
    {
      "cell_type": "markdown",
      "source": [
        "## **Strings and Conditional Statements**"
      ],
      "metadata": {
        "id": "AxBDSdSYwuFs"
      }
    },
    {
      "cell_type": "code",
      "source": [
        "# in strings we can store values in single,double,triple quotes\n",
        "str=\"This is string\\nWe are creating strings in python\"\n",
        "print(str)\n",
        "\n",
        "s1='pinki'\n",
        "s2=\"akter\"\n",
        "print(s1+\" \"+s2) # concatenation\n",
        "\n",
        "print(len(s1))\n",
        "\n",
        "#indexing\n",
        "print(s2[3])\n",
        "\n",
        "#slicing : str[starting_idx:ending_idx] ending index is not included\n",
        "r1=\"Rinki Akter\"\n",
        "print(r1[2:5])\n",
        "print(r1[3:])\n",
        "print(r1[:5])\n",
        "\n",
        "#negative indexing\n",
        "a='apple' # -5 -4 -3 -2 -1\n",
        "print(a[-4:-1])"
      ],
      "metadata": {
        "colab": {
          "base_uri": "https://localhost:8080/"
        },
        "id": "bl3jZKpgwyLJ",
        "outputId": "4e891e9c-57bd-434e-fe8f-bc79ff8a4b4f"
      },
      "execution_count": null,
      "outputs": [
        {
          "output_type": "stream",
          "name": "stdout",
          "text": [
            "This is string\n",
            "We are creating strings in python\n",
            "pinki akter\n",
            "5\n",
            "e\n",
            "nki\n",
            "ki Akter\n",
            "Rinki\n",
            "ppl\n"
          ]
        }
      ]
    },
    {
      "cell_type": "code",
      "source": [
        "# String Functions\n",
        "str=\"I am a girl and I want to be self-independent\"\n",
        "print(str.endswith('girl'))\n",
        "print(str.capitalize())\n",
        "print(str.replace('a','e'))\n",
        "print(str.find('a'))\n",
        "print(str.find('ri'))\n",
        "print(str.count('am'))\n",
        "print(str.count('ri'))\n",
        "\n",
        "\n",
        "s=input(\"enter your first name \")\n",
        "print(s)\n",
        "print(len(s))\n",
        "print(s.count('$'))"
      ],
      "metadata": {
        "colab": {
          "base_uri": "https://localhost:8080/"
        },
        "id": "sM5EWAM-04xZ",
        "outputId": "2e2ce0c0-ba1d-4694-ab9e-e9241b19bf26"
      },
      "execution_count": null,
      "outputs": [
        {
          "output_type": "stream",
          "name": "stdout",
          "text": [
            "False\n",
            "I am a girl and i want to be self-independent\n",
            "I em e girl end I went to be self-independent\n",
            "2\n",
            "-1\n",
            "1\n",
            "0\n",
            "enter your first name pinkfloyed$pinkiakter$\n",
            "pinkfloyed$pinkiakter$\n",
            "22\n",
            "2\n"
          ]
        }
      ]
    },
    {
      "cell_type": "code",
      "source": [
        "#conditional statements\n",
        "a=20\n",
        "b=30\n",
        "c=15\n",
        "\n",
        "if(a>b and a>c):\n",
        "   print(\"a\")\n",
        "elif(b>c and b>a):\n",
        "   print(\"b\")\n",
        "else:\n",
        "   print(\"c\")\n",
        "print(\"end of code\")\n",
        "\n",
        "\n",
        "m=int(input(\"enter marks of student \"))\n",
        "if(m>90):\n",
        "   print(\"A+\")\n",
        "elif(m>=80 and m<90):\n",
        "   print(\"A\")\n",
        "elif(m>=70 and m<80):\n",
        "   print(\"A-\")\n",
        "elif(m>=60 and m<70):\n",
        "   print(\"B\")\n",
        "elif(m>=50 and m<40):\n",
        "   print(\"C\")\n",
        "elif(m>40 and m<50):\n",
        "   print(\"D\")\n",
        "else:\n",
        "   print(\"F\")\n",
        "print(\"end of code\")\n",
        "\n",
        "age=18\n",
        "if(age>10):\n",
        "   if(age>=18):\n",
        "     print(\"yes\")\n",
        "   else:\n",
        "     print(\"no\")\n",
        "else:\n",
        "     print(\"no\")"
      ],
      "metadata": {
        "colab": {
          "base_uri": "https://localhost:8080/"
        },
        "id": "dKNc5uTwBWBL",
        "outputId": "37cccdce-bd6d-474e-e885-cc527d3bd4df"
      },
      "execution_count": null,
      "outputs": [
        {
          "output_type": "stream",
          "name": "stdout",
          "text": [
            "b\n",
            "end of code\n",
            "enter marks of student 60\n",
            "B\n",
            "end of code\n",
            "yes\n"
          ]
        }
      ]
    },
    {
      "cell_type": "markdown",
      "source": [
        "##**Lists and Tuples**"
      ],
      "metadata": {
        "id": "yBh6Kx-wXxTb"
      }
    },
    {
      "cell_type": "code",
      "source": [
        "# list is built-in data type which stores set of values. it can store integers, strings, float, boolean)\n",
        "# strings (immutable/not changeable) lists (mutable/changeable)\n",
        "# in string can't change index value but in lists we can change value of one index\n",
        "# list slicing is same as string\n",
        "\n",
        "marks=[94,93.5,81,56,78,49]\n",
        "print(marks)\n",
        "print(len(marks))\n",
        "print(marks[3])\n",
        "\n",
        "lists=['pinki','akter',18,'B','04-09-2000']\n",
        "print(lists)\n",
        "\n",
        "lists[3]='CSE'\n",
        "print(lists)\n",
        "\n",
        "\n",
        "l=[3,2,1,4,5,6,7]\n",
        "l.append(10)\n",
        "print(l)\n",
        "l.sort()\n",
        "print(l)\n",
        "l.sort(reverse=True)\n",
        "print(l)\n",
        "l.insert(4,96)\n",
        "print(l)\n",
        "l.reverse()\n",
        "print(l)\n",
        "l.remove(10)\n",
        "print(l)\n",
        "l.pop(4)\n",
        "print(l)\n",
        "print(type(l))"
      ],
      "metadata": {
        "colab": {
          "base_uri": "https://localhost:8080/"
        },
        "id": "w0cas8EzX0R6",
        "outputId": "f034de33-32d7-4a48-9895-4a65634942bd"
      },
      "execution_count": null,
      "outputs": [
        {
          "output_type": "stream",
          "name": "stdout",
          "text": [
            "[94, 93.5, 81, 56, 78, 49]\n",
            "6\n",
            "56\n",
            "['pinki', 'akter', 18, 'B', '04-09-2000']\n",
            "['pinki', 'akter', 18, 'CSE', '04-09-2000']\n",
            "[3, 2, 1, 4, 5, 6, 7, 10]\n",
            "[1, 2, 3, 4, 5, 6, 7, 10]\n",
            "[10, 7, 6, 5, 4, 3, 2, 1]\n",
            "[10, 7, 6, 5, 96, 4, 3, 2, 1]\n",
            "[1, 2, 3, 4, 96, 5, 6, 7, 10]\n",
            "[1, 2, 3, 4, 96, 5, 6, 7]\n",
            "[1, 2, 3, 4, 5, 6, 7]\n",
            "<class 'list'>\n"
          ]
        }
      ]
    },
    {
      "cell_type": "code",
      "source": [
        "# tuples (immutable/not changeable)\n",
        "tup=(10,20,40,90,27,35)\n",
        "print(tup)\n",
        "print(type(tup))\n",
        "print(tup.index(90))\n",
        "\n",
        "print(tuple[3])\n",
        "t=(2,) # single variable store korle comma must. multiple values store korle last e comma mandatory na\n",
        "print(t)\n",
        "\n",
        "m=(4,2,4,4,5,6,6,7,)\n",
        "print(m.index(6))\n",
        "print(m.count(4))\n"
      ],
      "metadata": {
        "colab": {
          "base_uri": "https://localhost:8080/"
        },
        "id": "5By5hKXLg4kh",
        "outputId": "7f0d9033-094b-45cb-97eb-1855b845b26d"
      },
      "execution_count": null,
      "outputs": [
        {
          "output_type": "stream",
          "name": "stdout",
          "text": [
            "(10, 20, 40, 90, 27, 35)\n",
            "<class 'tuple'>\n",
            "3\n",
            "90\n",
            "(2,)\n",
            "5\n",
            "3\n"
          ]
        }
      ]
    },
    {
      "cell_type": "code",
      "source": [
        "# practice\n",
        "# 1. user input 3 programming languages and store in list\n",
        "\n",
        "a=input('Enter 1st programming language : ')\n",
        "b=input('Enter 2nd programming language : ')\n",
        "c=input('Enter 3rd programming language : ')\n",
        "\n",
        "lists=['','','']\n",
        "lists[0]=a\n",
        "lists[1]=b\n",
        "lists[2]=c\n",
        "print(lists)\n",
        "\n",
        "# another way\n",
        "code=[]\n",
        "code.append(input('Enter 1st programming language : '))\n",
        "code.append(input('Enter 1st programming language : '))\n",
        "code.append(input('Enter 1st programming language : '))\n",
        "print(code)\n",
        "\n",
        "# 2. check if list of elements are palindrome or not\n",
        "l=[1,2,3,2,1]\n",
        "l1=[\"pinki\",'akter','CSE',\"akter\",\"Pinki\"]\n",
        "a=l.copy()\n",
        "a.reverse()\n",
        "b=l1.copy()\n",
        "b.reverse()\n",
        "if(a==l):\n",
        "  print('Palindrome')\n",
        "else:\n",
        "  print(\"Not palindrome\")\n",
        "\n",
        "if(b==l1):\n",
        "  print('Palindrome')\n",
        "else:\n",
        "  print(\"Not palindrome\")\n",
        "\n",
        "# 3.count specific characters in given tuple\n",
        "\n",
        "t=('A','B','A','C','D','A','B')\n",
        "print(t.count('A'))\n",
        "\n",
        "t1=['A','B','A','C','D','A','B']\n",
        "t1.sort()\n",
        "print(t1)"
      ],
      "metadata": {
        "colab": {
          "base_uri": "https://localhost:8080/"
        },
        "id": "wc4iogm4jTYJ",
        "outputId": "38c32071-e716-481e-d7ed-eec2522caf37"
      },
      "execution_count": null,
      "outputs": [
        {
          "output_type": "stream",
          "name": "stdout",
          "text": [
            "Palindrome\n",
            "Not palindrome\n",
            "3\n",
            "['A', 'A', 'A', 'B', 'B', 'C', 'D']\n"
          ]
        }
      ]
    },
    {
      "cell_type": "markdown",
      "source": [
        "##**Dictionary & Sets**"
      ],
      "metadata": {
        "id": "_lKbGNUdJkjZ"
      }
    },
    {
      "cell_type": "code",
      "source": [
        "# dictionary is used to store data values as key:value pairs\n",
        "# mutable/changeable/can't store duplicate keys/unordered\n",
        "dict={'name':'Pinki',\n",
        "      'Dept':'CSE',\n",
        "      'CGPA':3.53,\n",
        "      'marks':['A+','A',\"A-\",'B+'],\n",
        "      5:5\n",
        "      }\n",
        "dict['name']=\"akter\" # replec dictionary values\n",
        "dict[\"age\"]=25\n",
        "print(dict)\n",
        "\n",
        "\n",
        "# nested dictionary\n",
        "st={\n",
        "    'fruit':'apple',\n",
        "    'flower': {'rose',\n",
        "               'sunflower',\n",
        "               'lily'\n",
        "    }\n",
        "}\n",
        "print(st)\n",
        "\n",
        "student={\n",
        "    'name':'Rahul',\n",
        "    'marks':{\n",
        "        'physics':95,\n",
        "        'chemistry':92,\n",
        "        'maths':100\n",
        "    },\n",
        "    'section':'A'\n",
        "}\n",
        "\n",
        "print(student)\n",
        "print(type(student))\n",
        "print(student['marks']['maths'])\n",
        "print(student.update({'city':'dhaka'}))\n",
        "\n",
        "# dictionary methods\n",
        "print(list(student.keys())) # all keys return\n",
        "print(list(student.values())) # all values return\n",
        "print(list(student.items())) # all items return\n",
        "print(list(student.get('marks'))) # keys return\n",
        "print(student.get('name2')) #no error\n",
        "#print(student['name2']) # error\n",
        "\n",
        "d={} # empty dictionary\n",
        "print(type(d))"
      ],
      "metadata": {
        "colab": {
          "base_uri": "https://localhost:8080/"
        },
        "id": "h3WpVX6QJnc0",
        "outputId": "d9688980-f0ef-4810-ed73-bcfdf7c3d5ea"
      },
      "execution_count": null,
      "outputs": [
        {
          "output_type": "stream",
          "name": "stdout",
          "text": [
            "{'name': 'akter', 'Dept': 'CSE', 'CGPA': 3.53, 'marks': ['A+', 'A', 'A-', 'B+'], 5: 5, 'age': 25}\n",
            "{'fruit': 'apple', 'flower': {'sunflower', 'lily', 'rose'}}\n",
            "{'name': 'Rahul', 'marks': {'physics': 95, 'chemistry': 92, 'maths': 100}, 'section': 'A'}\n",
            "<class 'dict'>\n",
            "100\n",
            "None\n",
            "['name', 'marks', 'section', 'city']\n",
            "['Rahul', {'physics': 95, 'chemistry': 92, 'maths': 100}, 'A', 'dhaka']\n",
            "[('name', 'Rahul'), ('marks', {'physics': 95, 'chemistry': 92, 'maths': 100}), ('section', 'A'), ('city', 'dhaka')]\n",
            "['physics', 'chemistry', 'maths']\n",
            "None\n",
            "<class 'dict'>\n"
          ]
        }
      ]
    },
    {
      "cell_type": "code",
      "source": [
        "# set is collection of unordered items and immutable/unchangeable and unique\n",
        "# list and dictionary can't be stored in sets\n",
        "# sets mutable but elements of set immutable\n",
        "\n",
        "collection={10,9,9,1,2,4,2,3,3,\"hello\",'world','hello'}\n",
        "print(collection)\n",
        "print(len(collection))\n",
        "print(type(collection))\n",
        "collection.pop()\n",
        "print(len(collection))\n",
        "print(collection)\n",
        "c=set() # empty set\n",
        "print(type(c))\n",
        "\n",
        "c.add(10)\n",
        "print(c)\n",
        "c.add((2,3,4,5))\n",
        "print(c)\n",
        "c.remove(10)\n",
        "print(c)\n",
        "c.clear()\n",
        "print(c)\n",
        "\n",
        "\n",
        "s1={3,1,2,5,6}\n",
        "s2={3,4,6,7,8}\n",
        "print(s1.union(s2))  # 1 2 3 4 5 6 7 8\n",
        "\n",
        "print(s1.intersection(s2))"
      ],
      "metadata": {
        "colab": {
          "base_uri": "https://localhost:8080/"
        },
        "id": "XVUPY5fPZXDr",
        "outputId": "682b7637-4a37-4308-a619-e92d9ff7a3ad"
      },
      "execution_count": null,
      "outputs": [
        {
          "output_type": "stream",
          "name": "stdout",
          "text": [
            "{1, 2, 3, 4, 9, 10, 'hello', 'world'}\n",
            "8\n",
            "<class 'set'>\n",
            "7\n",
            "{2, 3, 4, 9, 10, 'hello', 'world'}\n",
            "<class 'set'>\n",
            "{10}\n",
            "{10, (2, 3, 4, 5)}\n",
            "{(2, 3, 4, 5)}\n",
            "set()\n",
            "{1, 2, 3, 4, 5, 6, 7, 8}\n",
            "{3, 6}\n"
          ]
        }
      ]
    },
    {
      "cell_type": "code",
      "source": [
        "# practice\n",
        "dict={'male':0,\n",
        "      'female':[1,\"rasha\"]\n",
        "      }\n",
        "print(dict)\n",
        "\n",
        "subjects={\"python\",'java','c++','python','javascript','java','python','java','c++','c'}\n",
        "print(len(subjects))\n",
        "\n",
        "d={}\n",
        "d['subject name1']=input('enter subject name : ')\n",
        "d['subject marks1']=input('enter marks of subject1 : ')\n",
        "\n",
        "d['subject name2']=input('enter subject name : ')\n",
        "d['subject marks2']=input('enter marks of subject2 : ')\n",
        "\n",
        "d['subject name3']=input('enter subject name : ')\n",
        "d['subject marks3']=input('enter marks of subject3 : ')\n",
        "\n",
        "print(d)\n",
        "\n",
        "# another approach\n",
        "marks={}\n",
        "s1=input('enter subject name1 : ')\n",
        "x1=int(input('enter marks of subject1 : '))\n",
        "marks.update({s1:x1})\n",
        "\n",
        "s2=input('enter subject name2 : ')\n",
        "x2=int(input('enter marks of subject2 : '))\n",
        "marks.update({s2:x2})\n",
        "\n",
        "s3=input('enter subject name3 : ')\n",
        "x3=int(input('enter marks of subject3 : '))\n",
        "marks.update({s3:x3})\n",
        "\n",
        "print(marks)\n",
        "\n",
        "values={('float',9.0),('int',9)}  # pair in form of tuples in sets\n",
        "print(values)"
      ],
      "metadata": {
        "colab": {
          "base_uri": "https://localhost:8080/"
        },
        "id": "SP9yk45ec7oZ",
        "outputId": "201853e9-45dd-463a-8eb6-0bf55e5291b4"
      },
      "execution_count": null,
      "outputs": [
        {
          "output_type": "stream",
          "name": "stdout",
          "text": [
            "{('int', 9), ('float', 9.0)}\n"
          ]
        }
      ]
    },
    {
      "cell_type": "markdown",
      "source": [
        "##**Loops**"
      ],
      "metadata": {
        "id": "uSmNnvc8h3iK"
      }
    },
    {
      "cell_type": "code",
      "source": [
        "# while loops\n",
        "\n",
        "i=0\n",
        "while i<10:\n",
        "  print(\"Bangladesh\",i)\n",
        "  i+=1\n",
        "print(i)\n",
        "\n",
        "\n",
        "i=6\n",
        "while i>=1:\n",
        "  print(\"Paris\",i)\n",
        "  i-=1\n",
        "print(i)\n",
        "\n",
        "# practice\n",
        "#1.\n",
        "i=1\n",
        "while i<=100:\n",
        "  print(i)\n",
        "  i+=1\n",
        "\n",
        "#2.\n",
        "i=100\n",
        "while i>=1:\n",
        "  print(i)\n",
        "  i-=1\n",
        "\n",
        "#3.\n",
        "i=1\n",
        "while i<=10:\n",
        "  print(i*i)\n",
        "  i+=1\n",
        "\n",
        "#4.\n",
        "i=1\n",
        "n=int(input('enter value of n : '))\n",
        "while i<=10:\n",
        "  print(n*i)\n",
        "  i+=1\n",
        "\n",
        "#5.\n",
        "nums=[]\n",
        "i=1\n",
        "while i<=100:\n",
        "  nums.append(i*i)\n",
        "  i+=1\n",
        "\n",
        "x=int(input('enter search element : '))\n",
        "if x in nums:\n",
        "   print('yes')\n",
        "else:\n",
        "  print('no')\n",
        "print(nums)\n",
        "\n",
        "i=1\n",
        "while i<=5:\n",
        "  print(i)\n",
        "  if(i==3):\n",
        "    break\n",
        "  i+=1\n",
        "\n",
        "i=1\n",
        "while i<=15:\n",
        "  if(i%2==1):\n",
        "    i+=1\n",
        "    continue\n",
        "  print(i)\n",
        "  i+=1"
      ],
      "metadata": {
        "colab": {
          "base_uri": "https://localhost:8080/"
        },
        "id": "wiAfvywih5l8",
        "outputId": "f81be39f-a147-4468-c580-242ab71d1fac"
      },
      "execution_count": null,
      "outputs": [
        {
          "output_type": "stream",
          "name": "stdout",
          "text": [
            "Bangladesh 0\n",
            "Bangladesh 1\n",
            "Bangladesh 2\n",
            "Bangladesh 3\n",
            "Bangladesh 4\n",
            "Bangladesh 5\n",
            "Bangladesh 6\n",
            "Bangladesh 7\n",
            "Bangladesh 8\n",
            "Bangladesh 9\n",
            "10\n",
            "Paris 6\n",
            "Paris 5\n",
            "Paris 4\n",
            "Paris 3\n",
            "Paris 2\n",
            "Paris 1\n",
            "0\n",
            "1\n",
            "2\n",
            "3\n",
            "4\n",
            "5\n",
            "6\n",
            "7\n",
            "8\n",
            "9\n",
            "10\n",
            "11\n",
            "12\n",
            "13\n",
            "14\n",
            "15\n",
            "16\n",
            "17\n",
            "18\n",
            "19\n",
            "20\n",
            "21\n",
            "22\n",
            "23\n",
            "24\n",
            "25\n",
            "26\n",
            "27\n",
            "28\n",
            "29\n",
            "30\n",
            "31\n",
            "32\n",
            "33\n",
            "34\n",
            "35\n",
            "36\n",
            "37\n",
            "38\n",
            "39\n",
            "40\n",
            "41\n",
            "42\n",
            "43\n",
            "44\n",
            "45\n",
            "46\n",
            "47\n",
            "48\n",
            "49\n",
            "50\n",
            "51\n",
            "52\n",
            "53\n",
            "54\n",
            "55\n",
            "56\n",
            "57\n",
            "58\n",
            "59\n",
            "60\n",
            "61\n",
            "62\n",
            "63\n",
            "64\n",
            "65\n",
            "66\n",
            "67\n",
            "68\n",
            "69\n",
            "70\n",
            "71\n",
            "72\n",
            "73\n",
            "74\n",
            "75\n",
            "76\n",
            "77\n",
            "78\n",
            "79\n",
            "80\n",
            "81\n",
            "82\n",
            "83\n",
            "84\n",
            "85\n",
            "86\n",
            "87\n",
            "88\n",
            "89\n",
            "90\n",
            "91\n",
            "92\n",
            "93\n",
            "94\n",
            "95\n",
            "96\n",
            "97\n",
            "98\n",
            "99\n",
            "100\n",
            "1\n",
            "2\n",
            "3\n",
            "2\n",
            "4\n",
            "6\n",
            "8\n",
            "10\n",
            "12\n",
            "14\n"
          ]
        }
      ]
    },
    {
      "cell_type": "code",
      "source": [
        "# for loops\n",
        "# for loops can be applied on list,tuples,strings\n",
        "\n",
        "nums=[3,2,6,7,8,9,1,11]\n",
        "\n",
        "for num in nums:\n",
        "  print(num)\n",
        "\n",
        "tup=(\"burger\",\"pizza\",\"pasta\",\"biriyani\",'kacchi')\n",
        "\n",
        "for num in tup:\n",
        "  print(num)\n",
        "\n",
        "str='PinkiAkter'\n",
        "for c in str:\n",
        "  if(c=='A'):\n",
        "   print('found')\n",
        "   break\n",
        "   print(c)\n",
        "else:\n",
        "    print('end of code')\n",
        "\n",
        "a=(1,4,9,16,25,36,49,64,81,100,49)\n",
        "x=49\n",
        "\n",
        "idx=0\n",
        "for el in a:\n",
        "  if(el==x):\n",
        "    print('found',idx)\n",
        "    break\n",
        "  idx+=1\n",
        "\n",
        "for el in range(5):\n",
        "  print(el)\n",
        "\n",
        "for el in range(1,15):\n",
        "  print(el)\n",
        "\n",
        "for el in range(2,20,2):\n",
        "  print(el)\n",
        "\n",
        "for i in range(100,0,-1):\n",
        "  print(i)\n",
        "\n",
        "\n",
        "# pass statement is null statement that does nothing. used as a placeholder for future code\n",
        "for i in range(5):\n",
        "  pass\n",
        "print(\"it works\")\n",
        "\n",
        "\n",
        "n=7\n",
        "s=0\n",
        "for i in range(1,n+1):\n",
        "  s+=i\n",
        "print('sum of n numbers : ',s)\n",
        "\n",
        "n=5\n",
        "fact=1\n",
        "for i in range(1,n+1):\n",
        "  fact=fact*i\n",
        "print('factorial of n numbers : ',fact)"
      ],
      "metadata": {
        "colab": {
          "base_uri": "https://localhost:8080/"
        },
        "id": "8RELg_Mwlead",
        "outputId": "3e827f83-1c43-4764-87ad-9caa9de08766"
      },
      "execution_count": null,
      "outputs": [
        {
          "output_type": "stream",
          "name": "stdout",
          "text": [
            "3\n",
            "2\n",
            "6\n",
            "7\n",
            "8\n",
            "9\n",
            "1\n",
            "11\n",
            "burger\n",
            "pizza\n",
            "pasta\n",
            "biriyani\n",
            "kacchi\n",
            "found\n",
            "found 6\n",
            "0\n",
            "1\n",
            "2\n",
            "3\n",
            "4\n",
            "1\n",
            "2\n",
            "3\n",
            "4\n",
            "5\n",
            "6\n",
            "7\n",
            "8\n",
            "9\n",
            "10\n",
            "11\n",
            "12\n",
            "13\n",
            "14\n",
            "2\n",
            "4\n",
            "6\n",
            "8\n",
            "10\n",
            "12\n",
            "14\n",
            "16\n",
            "18\n",
            "100\n",
            "99\n",
            "98\n",
            "97\n",
            "96\n",
            "95\n",
            "94\n",
            "93\n",
            "92\n",
            "91\n",
            "90\n",
            "89\n",
            "88\n",
            "87\n",
            "86\n",
            "85\n",
            "84\n",
            "83\n",
            "82\n",
            "81\n",
            "80\n",
            "79\n",
            "78\n",
            "77\n",
            "76\n",
            "75\n",
            "74\n",
            "73\n",
            "72\n",
            "71\n",
            "70\n",
            "69\n",
            "68\n",
            "67\n",
            "66\n",
            "65\n",
            "64\n",
            "63\n",
            "62\n",
            "61\n",
            "60\n",
            "59\n",
            "58\n",
            "57\n",
            "56\n",
            "55\n",
            "54\n",
            "53\n",
            "52\n",
            "51\n",
            "50\n",
            "49\n",
            "48\n",
            "47\n",
            "46\n",
            "45\n",
            "44\n",
            "43\n",
            "42\n",
            "41\n",
            "40\n",
            "39\n",
            "38\n",
            "37\n",
            "36\n",
            "35\n",
            "34\n",
            "33\n",
            "32\n",
            "31\n",
            "30\n",
            "29\n",
            "28\n",
            "27\n",
            "26\n",
            "25\n",
            "24\n",
            "23\n",
            "22\n",
            "21\n",
            "20\n",
            "19\n",
            "18\n",
            "17\n",
            "16\n",
            "15\n",
            "14\n",
            "13\n",
            "12\n",
            "11\n",
            "10\n",
            "9\n",
            "8\n",
            "7\n",
            "6\n",
            "5\n",
            "4\n",
            "3\n",
            "2\n",
            "1\n",
            "it works\n",
            "sum of n numbers :  28\n",
            "factorial of n numbers :  120\n"
          ]
        }
      ]
    },
    {
      "cell_type": "markdown",
      "source": [
        "## **OOPs**"
      ],
      "metadata": {
        "id": "6ndMKYcytg9r"
      }
    },
    {
      "cell_type": "code",
      "source": [
        "# all classes have a function __init__(), executes when class is initiated\n",
        "# self parameter is reference to current instance of class and used to access variables that belongs to the class\n",
        "\n",
        "class Student:\n",
        "  name='Pinki Akter'\n",
        "\n",
        "s1=Student()\n",
        "print(s1.name)\n",
        "\n",
        "\n",
        "#constructor\n",
        "class student:\n",
        "  def __init__(self):\n",
        "    print('default constructor')\n",
        "\n",
        "  def __init__(self,name,dept):\n",
        "    self.name=name\n",
        "    self.dept=dept\n",
        "    print('parameterized constructor')\n",
        "\n",
        "s=student('pinki','CSE')\n",
        "print(s.name,s.dept)\n",
        "\n",
        "class new:\n",
        "  name='anonymous' # class attribute\n",
        "  college='Cambridge University'\n",
        "  def __init__(self,name,marks,college):\n",
        "    self.name=name  # object attribute\n",
        "    self.marks=marks\n",
        "    self.college=college\n",
        "  print('student info added')\n",
        "\n",
        "  # methods\n",
        "  def hello(self):\n",
        "    print('hello!',self.name)\n",
        "\n",
        "s=new('pinki',3.53,'VNC')\n",
        "print(s.name,s.marks,s.college) #object attribute > class attribute\n",
        "\n",
        "m=new('pinki',3.53,'VNC')\n",
        "m.hello()\n",
        "\n",
        "del m.marks\n",
        "# print(m.marks) error\n",
        "m.hello()"
      ],
      "metadata": {
        "colab": {
          "base_uri": "https://localhost:8080/"
        },
        "id": "oMQAC4kBtjHR",
        "outputId": "4c949703-a882-47a8-aae1-bb70a65ad889"
      },
      "execution_count": null,
      "outputs": [
        {
          "output_type": "stream",
          "name": "stdout",
          "text": [
            "Pinki Akter\n",
            "parameterized constructor\n",
            "pinki CSE\n",
            "student info added\n",
            "pinki 3.53 VNC\n",
            "hello! pinki\n",
            "hello! pinki\n"
          ]
        }
      ]
    },
    {
      "cell_type": "code",
      "source": [
        "# practice\n",
        "\n",
        "class Student:\n",
        "  def __init__(self,name,marks):\n",
        "    self.name=name\n",
        "    self.marks=marks\n",
        "\n",
        "  def average(self):\n",
        "     s=0\n",
        "     for i in self.marks:\n",
        "      s+=i\n",
        "     print('average of marks',s/3)\n",
        "\n",
        "\n",
        "m=Student('Pinki',[98,93,91])\n",
        "m.average()\n",
        "\n",
        "m=Student('Florence',[91,89,98])\n",
        "m.average()\n",
        "\n",
        "m=Student('Meem',[97,93,85])\n",
        "m.average()\n",
        "\n",
        "\n",
        "# static methods (don't use self parameter)/ works at class level\n",
        "class static:\n",
        "  @staticmethod  #decorator 1ta function ney, extend behaviour to another function and don't parmanenetly change it\n",
        "  def print():\n",
        "    print(\"MIT\")\n",
        "s=static()\n",
        "s.print()"
      ],
      "metadata": {
        "colab": {
          "base_uri": "https://localhost:8080/"
        },
        "id": "3H-ImqHE9SCA",
        "outputId": "46858d10-3383-4df6-bcfd-14b107a2186f"
      },
      "execution_count": null,
      "outputs": [
        {
          "output_type": "stream",
          "name": "stdout",
          "text": [
            "average of marks 94.0\n",
            "average of marks 92.66666666666667\n",
            "average of marks 91.66666666666667\n",
            "MIT\n"
          ]
        }
      ]
    },
    {
      "cell_type": "code",
      "source": [
        "# Abstraction\n",
        "\n",
        "class Car:\n",
        "  def __init__(self):\n",
        "    self.acc=False\n",
        "    self.brk=False\n",
        "    self.clutch=False\n",
        "  def start(self):\n",
        "    self.acc=True\n",
        "    self.clutch=False\n",
        "\n",
        "  print('Car starts.....')\n",
        "c=Car()\n",
        "c.start()\n",
        "\n",
        "\n",
        "# Encapsulation\n",
        "\n",
        "class Account:\n",
        "  def __init__(self,acc_no,bal):\n",
        "    self.balance=bal\n",
        "    self.account=acc_no\n",
        "\n",
        "  def debit(self,amount):\n",
        "    self.balance-=amount\n",
        "    print('debited ammount',amount)\n",
        "\n",
        "  def credit(self,amount):\n",
        "    self.balance+=amount\n",
        "    print('credited ammount',amount)\n",
        "\n",
        "  def get_balance(self):\n",
        "    return self.balance\n",
        "\n",
        "a=Account(2,1000000)\n",
        "print(a.balance)\n",
        "print(a.account)\n",
        "a.debit(60000)\n",
        "a.credit(70000)\n",
        "a.get_balance()\n",
        "\n",
        "\n",
        "class Accountprivate:\n",
        "  def __init__(self,acc_no,acc_pass):\n",
        "    self.acc_no=acc_no\n",
        "    self.__acc=acc_pass   # private and can't access from outside class\n",
        "\n",
        "  def reset_pass(self):\n",
        "    print(self.__acc)\n",
        "p=Accountprivate(123456,'uedge')\n",
        "print(p.acc_no)\n",
        "p.reset_pass()"
      ],
      "metadata": {
        "colab": {
          "base_uri": "https://localhost:8080/"
        },
        "id": "lrdS5XVxCaEp",
        "outputId": "288291f1-de59-4e0a-c859-c24ad917b998"
      },
      "execution_count": null,
      "outputs": [
        {
          "output_type": "stream",
          "name": "stdout",
          "text": [
            "Car starts.....\n",
            "1000000\n",
            "2\n",
            "debited ammount 60000\n",
            "credited ammount 70000\n",
            "123456\n",
            "uedge\n"
          ]
        }
      ]
    },
    {
      "cell_type": "code",
      "source": [
        "# Inheritance  1. single 2. multiple 3. multilevel\n",
        "#1. single:\n",
        "class car:\n",
        "  @staticmethod\n",
        "  def start():\n",
        "    print('car started...')\n",
        "\n",
        "  @staticmethod\n",
        "  def end():\n",
        "    print('car stopped...')\n",
        "class Toyotacar(car):\n",
        "  def __init__(self,name):\n",
        "    self.name=name\n",
        "\n",
        "car1=Toyotacar('fortuner')\n",
        "car2=Toyotacar('prius')\n",
        "print(car1.start())\n",
        "print(car2.start())\n",
        "\n",
        "\n",
        "#2. multiple\n",
        "class A:\n",
        "  va='welcome to class A'\n",
        "class B:\n",
        "  vb='welcome to class B'\n",
        "class C(A,B):\n",
        "  vc='welcome to class C'\n",
        "m=C()\n",
        "print(m.va)\n",
        "print(m.vb)\n",
        "print(m.vc)\n",
        "\n",
        "#3. multi-level\n",
        "class A:\n",
        "  va='welcome to class A'\n",
        "class B(A):\n",
        "  vb='welcome to class B'\n",
        "class C(B):\n",
        "  vc='welcome to class C'\n",
        "m=C()\n",
        "print(m.va)\n",
        "print(m.vb)\n",
        "print(m.vc)\n",
        "\n",
        "\n",
        "# super() method is used to access methods of parent class\n",
        "class car:\n",
        "  def __init__(self,type):\n",
        "    self.type=type\n",
        "\n",
        "  @staticmethod\n",
        "  def start():\n",
        "    print('car started...')\n",
        "\n",
        "  @staticmethod\n",
        "  def end():\n",
        "    print('car stopped...')\n",
        "\n",
        "class Toyotacar(car):\n",
        "  def __init__(self,name,type):\n",
        "    self.name=name\n",
        "    super().__init__(type)\n",
        "\n",
        "car1=Toyotacar('fortuner','electric')\n",
        "car2=Toyotacar('prius','battery')\n",
        "print(car1.start())\n",
        "print(car2.start())\n",
        "print(car1.type)\n",
        "\n",
        "\n",
        "# class method is bound to class and receive class as implicit first argument\n",
        "class Person:\n",
        "  name='anonymous'\n",
        "  @classmethod\n",
        "  def changename(cls,name):\n",
        "    cls.name=name\n",
        "p1=Person()\n",
        "p1.changename('Pinki Akter')\n",
        "print(p1.name)\n",
        "print(Person.name)"
      ],
      "metadata": {
        "colab": {
          "base_uri": "https://localhost:8080/"
        },
        "id": "BuWR2fs3DHhC",
        "outputId": "61e4eccc-22f7-4cc1-941c-677d63747c7c"
      },
      "execution_count": null,
      "outputs": [
        {
          "output_type": "stream",
          "name": "stdout",
          "text": [
            "car started...\n",
            "None\n",
            "car started...\n",
            "None\n",
            "welcome to class A\n",
            "welcome to class B\n",
            "welcome to class C\n",
            "welcome to class A\n",
            "welcome to class B\n",
            "welcome to class C\n",
            "car started...\n",
            "None\n",
            "car started...\n",
            "None\n",
            "electric\n",
            "Pinki Akter\n",
            "Pinki Akter\n"
          ]
        }
      ]
    },
    {
      "cell_type": "code",
      "source": [
        "# property() method\n",
        "class student:\n",
        "  def __init__(self,phy,chem,math):\n",
        "    self.phy=phy\n",
        "    self.chem=chem\n",
        "    self.math=math\n",
        "\n",
        "  @property\n",
        "  def percentage(self):\n",
        "    return f\"{(self.phy + self.chem + self.math)/3: .2f}\"+\"%\"\n",
        "\n",
        "stu=student(93,96,91)\n",
        "print(stu.percentage)\n",
        "\n",
        "# merge 2 list\n",
        "l1=[2,3,5,1]\n",
        "l2=[3,5,6,7,8]\n",
        "print(l1+l2)\n",
        "\n",
        "# complex number\n",
        "class complex:\n",
        "  def __init__(self,real,img):\n",
        "    self.real=real\n",
        "    self.img=img\n",
        "  def show(self):\n",
        "    print(self.real,\"i+\",self.img,\"j\")\n",
        "  def add(self,num2):\n",
        "    nr=self.real+num2.real\n",
        "    ni=self.img+num2.img\n",
        "    return complex(nr,ni)\n",
        "\n",
        "c1=complex(2,5)\n",
        "c1.show()\n",
        "\n",
        "c2=complex(6,3)\n",
        "c2.show()\n",
        "\n",
        "cm=c1.add(c2)\n",
        "cm.show()\n",
        "\n",
        "class Area:\n",
        "  def __init__(self,r):\n",
        "    self.r=r\n",
        "  def area(self):\n",
        "    return 3.1416*(self.r)*(self.r)\n",
        "  def perimeter(self):\n",
        "    return 2*(3.1416)*(self.r)\n",
        "ar=Area(21)\n",
        "print(ar.area())\n",
        "print(ar.perimeter())"
      ],
      "metadata": {
        "colab": {
          "base_uri": "https://localhost:8080/"
        },
        "id": "WquppTUIVvT7",
        "outputId": "0cdca0c4-1dcf-49f8-86e7-53763c4efd44"
      },
      "execution_count": 92,
      "outputs": [
        {
          "output_type": "stream",
          "name": "stdout",
          "text": [
            " 93.33%\n",
            "[2, 3, 5, 1, 3, 5, 6, 7, 8]\n",
            "2 i+ 5 j\n",
            "6 i+ 3 j\n",
            "8 i+ 8 j\n",
            "1385.4456\n",
            "131.9472\n"
          ]
        }
      ]
    },
    {
      "cell_type": "code",
      "source": [
        "# polymorphism\n",
        "\n",
        "class complex:\n",
        "  def __init__(self,real,img):\n",
        "    self.real=real\n",
        "    self.img=img\n",
        "  def show(self):\n",
        "    print(self.real,\"i+\",self.img,\"j\")\n",
        "  def __add__(self,num2):\n",
        "    nr=self.real+num2.real\n",
        "    ni=self.img+num2.img\n",
        "    return complex(nr,ni)\n",
        "\n",
        "  def __sub__(self,num2):\n",
        "    nr=self.real-num2.real\n",
        "    ni=self.img-num2.img\n",
        "    return complex(nr,ni)\n",
        "\n",
        "c1=complex(2,5)\n",
        "c1.show()\n",
        "\n",
        "c2=complex(6,3)\n",
        "c2.show()\n",
        "\n",
        "cm=c1+c2\n",
        "cm.show()\n",
        "\n",
        "cs=c1-c2\n",
        "cs.show()"
      ],
      "metadata": {
        "id": "EcFPrngmmD1l",
        "colab": {
          "base_uri": "https://localhost:8080/"
        },
        "outputId": "698c9416-48eb-4cbb-ddfe-329faddacb8f"
      },
      "execution_count": 94,
      "outputs": [
        {
          "output_type": "stream",
          "name": "stdout",
          "text": [
            "2 i+ 5 j\n",
            "6 i+ 3 j\n",
            "8 i+ 8 j\n",
            "-4 i+ 2 j\n"
          ]
        }
      ]
    },
    {
      "cell_type": "markdown",
      "source": [
        "## **Function and Recursion**"
      ],
      "metadata": {
        "id": "9NYvlXQR41XC"
      }
    },
    {
      "cell_type": "code",
      "source": [
        "# functions can be 2 types : 1. built-in functions (print,len,type,range) 2. user-defined functions\n",
        "\n",
        "def sum(a,b):\n",
        "  return a+b\n",
        "sum(3,5)\n",
        "\n",
        "print('pinki',end=' ')\n",
        "print('akter')\n",
        "\n",
        "# default parameters pass\n",
        "def cal_prod(a=2,b=6):\n",
        "  return a*b\n",
        "cal_prod()\n",
        "\n",
        "def cal_fact(n):\n",
        "  fact=1\n",
        "  for i in range(1,n+1):\n",
        "    fact*=i\n",
        "  print(fact)\n",
        "cal_fact(6)"
      ],
      "metadata": {
        "colab": {
          "base_uri": "https://localhost:8080/"
        },
        "id": "e8LX_tvw4ykJ",
        "outputId": "0a1c4380-abc1-4df7-f813-ff3a7ced6e36"
      },
      "execution_count": 100,
      "outputs": [
        {
          "output_type": "stream",
          "name": "stdout",
          "text": [
            "pinki akter\n",
            "720\n"
          ]
        }
      ]
    },
    {
      "cell_type": "code",
      "source": [
        "# recursion\n",
        "def show(n):\n",
        "  if(n==0):\n",
        "    return\n",
        "  print(n)\n",
        "  show(n-1)\n",
        "show(5)\n",
        "\n",
        "def fact(n):\n",
        "  if(n==0 or n==1):\n",
        "    return 1\n",
        "  else:\n",
        "    return n*fact(n-1)\n",
        "fact(5)"
      ],
      "metadata": {
        "colab": {
          "base_uri": "https://localhost:8080/"
        },
        "id": "3W-FVAxy752Z",
        "outputId": "76f780d4-c8a6-4631-e683-258b8a6fac8c"
      },
      "execution_count": 108,
      "outputs": [
        {
          "output_type": "stream",
          "name": "stdout",
          "text": [
            "5\n",
            "4\n",
            "3\n",
            "2\n",
            "1\n"
          ]
        },
        {
          "output_type": "execute_result",
          "data": {
            "text/plain": [
              "120"
            ]
          },
          "metadata": {},
          "execution_count": 108
        }
      ]
    },
    {
      "cell_type": "markdown",
      "source": [
        "## **File I/O**"
      ],
      "metadata": {
        "id": "fJWvPkoL_8Bp"
      }
    },
    {
      "cell_type": "code",
      "source": [
        "from os import truncate\n",
        "# r:for read()\n",
        "# w:for write()\n",
        "# x:create new file and open for writing\n",
        "# a:open for writing. appending end of file if it exists\n",
        "# b:binary mode\n",
        "# t:text mode\n",
        "# +:open disk file for updating\n",
        "\n",
        "# r+:read+overwrite(ptr start) - no truncate\n",
        "# w+:read+overwrite - truncate\n",
        "# a+:read+append(ptr end) - no truncate\n",
        "\n",
        "f=open('/content/demo.txt','r')\n",
        "data=f.read()\n",
        "data=f.readline()\n",
        "print(data)\n",
        "print(type(data))\n",
        "f.close()\n",
        "\n",
        "g=open('sample.txt','a')\n",
        "g.close()\n",
        "\n",
        "import os\n",
        "os.remove('sample.txt')\n"
      ],
      "metadata": {
        "colab": {
          "base_uri": "https://localhost:8080/"
        },
        "id": "USwRaMdt_-Tk",
        "outputId": "912232e6-c0b9-420c-a28f-357bbe9b357d"
      },
      "execution_count": 115,
      "outputs": [
        {
          "output_type": "stream",
          "name": "stdout",
          "text": [
            "\n",
            "<class 'str'>\n"
          ]
        }
      ]
    }
  ]
}